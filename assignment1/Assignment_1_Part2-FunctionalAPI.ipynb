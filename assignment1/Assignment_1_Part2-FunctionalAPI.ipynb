{
 "cells": [
  {
   "cell_type": "code",
   "execution_count": 1,
   "id": "6d309c46-963d-4330-bf7b-cfbf19800371",
   "metadata": {
    "tags": []
   },
   "outputs": [],
   "source": [
    "from collections import defaultdict\n",
    "from datetime import datetime\n",
    "from matplotlib import pyplot as plt\n",
    "import numpy as np\n",
    "import os\n",
    "import shutil\n",
    "\n",
    "import tensorflow as tf\n",
    "from tensorflow import keras\n",
    "from tensorflow.keras.callbacks import Callback, TensorBoard\n",
    "from tensorflow.keras.initializers import *\n",
    "from tensorflow.keras.layers import *\n",
    "from tensorflow.keras.optimizers import *\n",
    "import tensorflow_datasets as tfds"
   ]
  },
  {
   "cell_type": "markdown",
   "id": "44189872-bc80-44fc-b8f4-f8f51697c152",
   "metadata": {},
   "source": [
    "# Helper Code"
   ]
  },
  {
   "cell_type": "code",
   "execution_count": 2,
   "id": "76b7b51f-905c-4588-863b-10fb629b65bd",
   "metadata": {},
   "outputs": [],
   "source": [
    "class TestCallback(Callback):\n",
    "    def __init__(self, log_dir, x_test, y_test):\n",
    "        \n",
    "        self.writer = tf.summary.create_file_writer(log_dir)\n",
    "        self.x_test = x_test\n",
    "        self.y_test = y_test\n",
    "        \n",
    "    def on_epoch_end(self, epoch, logs=None):\n",
    "        \n",
    "        test_scores = model.evaluate(self.x_test, self.y_test, verbose=2)\n",
    "\n",
    "        with self.writer.as_default():\n",
    "            tf.summary.scalar('epoch_loss', test_scores[0], step=epoch)\n",
    "            tf.summary.scalar('epoch_accuracy', test_scores[1], step=epoch)"
   ]
  },
  {
   "cell_type": "code",
   "execution_count": 3,
   "id": "e6e4ee62-6e10-4bf7-9fd6-50e438b5b0e3",
   "metadata": {},
   "outputs": [],
   "source": [
    "def variable_summaries(var, name, step):\n",
    "    with tf.name_scope(name):\n",
    "        mean = tf.reduce_mean(var)\n",
    "        tf.summary.scalar('mean', mean, step)\n",
    "        tf.summary.scalar('stddev', tf.sqrt(tf.reduce_mean(tf.square(var - mean))), step)\n",
    "        tf.summary.scalar('max', tf.reduce_max(var), step)\n",
    "        tf.summary.scalar('min', tf.reduce_min(var), step)"
   ]
  },
  {
   "cell_type": "markdown",
   "id": "58026622-4c4f-407d-8cdf-99a1a9c2ab07",
   "metadata": {
    "tags": []
   },
   "source": [
    "# More Helper Code (bers)"
   ]
  },
  {
   "cell_type": "code",
   "execution_count": 4,
   "id": "0c9bafbe-247f-4e7d-b39b-3441d563addc",
   "metadata": {},
   "outputs": [],
   "source": [
    "def tf_nan(dtype):\n",
    "    \"\"\"Create NaN variable of proper dtype and variable shape for assign().\"\"\"\n",
    "    return tf.Variable(float(\"nan\"), dtype=dtype, shape=tf.TensorShape(None))"
   ]
  },
  {
   "cell_type": "code",
   "execution_count": 5,
   "id": "b1f28651-41b4-4934-b371-b469f4ce5b0f",
   "metadata": {},
   "outputs": [],
   "source": [
    "class DataCallback(Callback):\n",
    "    \"\"\"Callback to operate on batch data from selected (to be wrapped) layers.\"\"\"\n",
    "    \n",
    "    def __init__(self, log_dir, layers):\n",
    "        \"\"\"Wrap the calls of an iterable of model layers to access layer batch data.\"\"\"\n",
    "        super().__init__()\n",
    "        \n",
    "        self.data = {}\n",
    "        self.inner_calls = {}\n",
    "        self.outer_calls = {}\n",
    "        \n",
    "        self.writer = tf.summary.create_file_writer(log_dir) \n",
    "        self.batch = tf.Variable(0, dtype=tf.int64)\n",
    "        \n",
    "        for layer in layers:\n",
    "            self.data[layer] = {\n",
    "                \"inputs\":  tf_nan(layer.input.dtype),\n",
    "                \"outputs\": tf_nan(layer.output.dtype)\n",
    "            }\n",
    "            \n",
    "            self.inner_calls[layer] = layer.call\n",
    "            \n",
    "            def outer_call(inputs, layer=layer, layer_call=layer.call, training=False):\n",
    "                self.data[layer][\"inputs\"].assign(inputs)\n",
    "                outputs = layer_call(inputs)\n",
    "                self.data[layer][\"outputs\"].assign(outputs)\n",
    "                return outputs\n",
    "            \n",
    "            self.outer_calls[layer] = outer_call\n",
    "            \n",
    "    def on_train_batch_begin(self, _epoch, _logs=None):\n",
    "        \"\"\"Wrap layer calls during each batch.\"\"\"\n",
    "        for layer, call in self.outer_calls.items():\n",
    "            layer.call = call\n",
    "            \n",
    "    def on_train_batch_end(self, _epoch, _logs=None):\n",
    "        \"\"\"Restore original layer calls for ModelCheckpoint, model.save, ...,\"\"\"\n",
    "        for layer, call in self.inner_calls.items():\n",
    "            layer.call = call\n",
    "            \n",
    "        self.batch.assign_add(1)\n",
    "        \n",
    "        if self.batch % 100 == 0:\n",
    "            with self.writer.as_default():\n",
    "                for layer, data in self.data.items():\n",
    "                    if isinstance(layer, keras.layers.InputLayer):\n",
    "                        continue\n",
    "                    \n",
    "                    tf.summary.histogram(f'{layer.name}/input/histogram', data['inputs'], step=self.batch)\n",
    "                    tf.summary.histogram(f'{layer.name}/output/histogram', data['outputs'], step=self.batch)\n",
    "                    \n",
    "                    variable_summaries(data['inputs'], f'{layer.name}/input', step=self.batch)\n",
    "                    variable_summaries(data['outputs'], f'{layer.name}/output', step=self.batch)\n",
    "                    \n",
    "                    \n",
    "                    if isinstance(layer, Conv2D) or isinstance(layer, Dense):\n",
    "                        tf.summary.histogram(f'{layer.name}/kernel/histogram', layer.kernel, step=self.batch)\n",
    "                        tf.summary.histogram(f'{layer.name}/layer_bias/histogram', layer.bias, step=self.batch)\n",
    "                        \n",
    "                        variable_summaries(layer.kernel, f'{layer.name}/kernel', self.batch)\n",
    "                        variable_summaries(layer.bias, f'{layer.name}/layer_bias', self.batch)"
   ]
  },
  {
   "cell_type": "markdown",
   "id": "edb7eeed-6349-4b6a-abef-db306ee6f233",
   "metadata": {},
   "source": [
    "# Loading MNIST Data Offline"
   ]
  },
  {
   "cell_type": "code",
   "execution_count": 2,
   "id": "914a37df-10cd-41ad-9fb6-f30215a7db3b",
   "metadata": {},
   "outputs": [],
   "source": [
    "# Downloaded from https://s3.amazonaws.com/img-datasets/mnist.pkl.gz\n",
    "(train_images, train_labels), (test_images, test_labels) = tf.keras.datasets.mnist.load_data(path='mnist.pkl.gz')\n",
    "train_images = tf.cast(train_images, tf.float32) / 255.\n",
    "test_images = tf.cast(test_images, tf.float32) / 255."
   ]
  },
  {
   "cell_type": "code",
   "execution_count": 4,
   "id": "a0ba8b1e-0eac-440d-b256-a454d229b696",
   "metadata": {},
   "outputs": [
    {
     "data": {
      "text/plain": [
       "(TensorShape([60000, 28, 28]), (60000,))"
      ]
     },
     "execution_count": 4,
     "metadata": {},
     "output_type": "execute_result"
    }
   ],
   "source": [
    "train_images.shape, train_labels.shape"
   ]
  },
  {
   "cell_type": "markdown",
   "id": "0d941e5d-7027-4a8f-95e2-24edd3a11837",
   "metadata": {},
   "source": [
    "# Model"
   ]
  },
  {
   "cell_type": "code",
   "execution_count": 7,
   "id": "2ad3436e-4d30-4317-8bfb-5ee90bbe928e",
   "metadata": {
    "tags": []
   },
   "outputs": [
    {
     "name": "stdout",
     "output_type": "stream",
     "text": [
      "<tf.Variable 'learning_rate:0' shape=() dtype=float32, numpy=1e-04>\n"
     ]
    }
   ],
   "source": [
    "## Hyperparameters\n",
    "\n",
    "#initializer = tf.initializers.GlorotUniform() # Glorot = Xavier\n",
    "#actFun = lambda x : tf.nn.leaky_relu(x, alpha=0.2)\n",
    "#weight_init = GlorotNormal()\n",
    "weight_init = TruncatedNormal(stddev=0.1, seed=0)\n",
    "bias_init = Constant(value=0.1)\n",
    "actFun = Activation(tf.nn.relu)\n",
    "actFun = Activation(tf.nn.sigmoid)\n",
    "\n",
    "lr = 1e-4\n",
    "optimizer = Adam(lr) # SGD, momentum-based methods, Adagrad\n",
    "#optimizer = SGD(learning_rate=0.01)\n",
    "#optimizer = Adagrad()\n",
    "#optimizer = Nadam()\n",
    "print(optimizer.learning_rate)\n",
    "dropout = 0.5\n",
    "batch = 50\n",
    "epochs = 5 # 5.5k iterations of 50-image batches from a 55k image dataset = 5 epochs through the whole dataset"
   ]
  },
  {
   "cell_type": "code",
   "execution_count": 8,
   "id": "a9e17b07-93fd-4902-933b-4c17d83a0868",
   "metadata": {},
   "outputs": [],
   "source": [
    "model_input = Input(shape=(28,28, 1), name='0__original_img')\n",
    "\n",
    "x = Conv2D(filters=32, kernel_size=(5,5), padding='same', activation=actFun,\n",
    "           kernel_initializer=weight_init, bias_initializer=bias_init, name='1__conv1')(model_input) # use_bias=True by default\n",
    "\n",
    "x = MaxPooling2D(padding='same', name='2__pool1')(x) # default strides = default pool size = (2,2)\n",
    "\n",
    "\n",
    "x = Conv2D(filters=64, kernel_size=(5,5), padding='same', activation=actFun,\n",
    "           kernel_initializer=weight_init, bias_initializer=bias_init, name='3__conv2')(x)\n",
    "x = MaxPooling2D(padding='same', name='4__pool2')(x)\n",
    "\n",
    "\n",
    "x = Reshape([-1, 7*7*64], name='5__reshape')(x)\n",
    "x = Dense(1024, activation=actFun,\n",
    "          kernel_initializer=weight_init, bias_initializer=bias_init, name='6__dense1')(x)\n",
    "x = Dropout(rate=0.5, seed=0, name='7__dropout')(x)\n",
    "\n",
    "\n",
    "x = Dense(10, activation='softmax',\n",
    "          kernel_initializer=weight_init, bias_initializer=bias_init, name='8__dense2')(x)\n",
    "\n",
    "model_output = x\n",
    "\n",
    "model = keras.Model(model_input, model_output, name='model')\n",
    "#model.summary()"
   ]
  },
  {
   "cell_type": "code",
   "execution_count": 9,
   "id": "cd56ba84-3b0e-42ee-814a-4303c2ed2632",
   "metadata": {},
   "outputs": [],
   "source": [
    "if 'logs' in os.listdir():\n",
    "    shutil.rmtree('logs')"
   ]
  },
  {
   "cell_type": "code",
   "execution_count": 10,
   "id": "a3e16ed1-199d-49c1-b705-d5e429785225",
   "metadata": {},
   "outputs": [],
   "source": [
    "current_time = datetime.now().strftime(\"%Y_%m_%d-%H_%M_%S\")\n",
    "log_dir = 'logs/fit/' + current_time\n",
    "callback1 = TensorBoard(log_dir=log_dir)\n",
    "callback2 = DataCallback(log_dir=log_dir + '/activations', layers=model.layers)\n",
    "callback3 = TestCallback(log_dir=log_dir + '/test', x_test=test_images, y_test=test_labels)"
   ]
  },
  {
   "cell_type": "code",
   "execution_count": 11,
   "id": "fd597ec1-80d6-4dea-8130-f6c04260341e",
   "metadata": {},
   "outputs": [
    {
     "name": "stdout",
     "output_type": "stream",
     "text": [
      "Epoch 1/5\n",
      "1100/1100 [==============================] - 149s 135ms/step - loss: 1.3879 - accuracy: 0.5526 - val_loss: 0.4119 - val_accuracy: 0.8972\n",
      "313/313 - 6s - loss: 0.4744 - accuracy: 0.8730\n",
      "Epoch 2/5\n",
      "1100/1100 [==============================] - 142s 129ms/step - loss: 0.3856 - accuracy: 0.8887 - val_loss: 0.2397 - val_accuracy: 0.9356\n",
      "313/313 - 6s - loss: 0.2876 - accuracy: 0.9172\n",
      "Epoch 3/5\n",
      "1100/1100 [==============================] - 146s 132ms/step - loss: 0.2639 - accuracy: 0.9242 - val_loss: 0.1666 - val_accuracy: 0.9556\n",
      "313/313 - 6s - loss: 0.1993 - accuracy: 0.9437\n",
      "Epoch 4/5\n",
      "1100/1100 [==============================] - 143s 130ms/step - loss: 0.1952 - accuracy: 0.9414 - val_loss: 0.1536 - val_accuracy: 0.9554\n",
      "313/313 - 6s - loss: 0.1777 - accuracy: 0.9443\n",
      "Epoch 5/5\n",
      "1100/1100 [==============================] - 144s 131ms/step - loss: 0.1484 - accuracy: 0.9555 - val_loss: 0.1024 - val_accuracy: 0.9714\n",
      "313/313 - 6s - loss: 0.1177 - accuracy: 0.9661\n"
     ]
    }
   ],
   "source": [
    "model.compile(\n",
    "    loss=keras.losses.SparseCategoricalCrossentropy(),\n",
    "    optimizer=optimizer,\n",
    "    metrics=['accuracy']\n",
    ")\n",
    "\n",
    "#history = model.fit(test_images, test_labels, batch_size=50, epochs=2, validation_split=5/60, callbacks=[callback1, callback2, callback3])\n",
    "history = model.fit(train_images, train_labels, batch_size=50, epochs=epochs, validation_split=5/60, callbacks=[callback1, callback2, callback3])"
   ]
  },
  {
   "cell_type": "code",
   "execution_count": 12,
   "id": "5de5f125-7fa8-467e-a2a6-9151bfcd0f02",
   "metadata": {},
   "outputs": [
    {
     "data": {
      "text/plain": [
       "Reusing TensorBoard on port 6004 (pid 15176), started 9:08:52 ago. (Use '!kill 15176' to kill it.)"
      ]
     },
     "metadata": {},
     "output_type": "display_data"
    },
    {
     "data": {
      "text/html": [
       "\n",
       "      <iframe id=\"tensorboard-frame-e3da019eae0a7773\" width=\"100%\" height=\"800\" frameborder=\"0\">\n",
       "      </iframe>\n",
       "      <script>\n",
       "        (function() {\n",
       "          const frame = document.getElementById(\"tensorboard-frame-e3da019eae0a7773\");\n",
       "          const url = new URL(\"/\", window.location);\n",
       "          const port = 6004;\n",
       "          if (port) {\n",
       "            url.port = port;\n",
       "          }\n",
       "          frame.src = url;\n",
       "        })();\n",
       "      </script>\n",
       "    "
      ],
      "text/plain": [
       "<IPython.core.display.HTML object>"
      ]
     },
     "metadata": {},
     "output_type": "display_data"
    }
   ],
   "source": [
    "%load_ext tensorboard\n",
    "\n",
    "\n",
    "%tensorboard --logdir logs --host localhost --port 6004"
   ]
  },
  {
   "cell_type": "code",
   "execution_count": 14,
   "id": "93d17923-b80f-4fe3-b4a7-a32a3ef32ee5",
   "metadata": {},
   "outputs": [
    {
     "name": "stdout",
     "output_type": "stream",
     "text": [
      "WARNING:tensorflow:From C:\\Users\\josue\\anaconda3\\lib\\site-packages\\tensorflow\\python\\summary\\summary_iterator.py:31: tf_record_iterator (from tensorflow.python.lib.io.tf_record) is deprecated and will be removed in a future version.\n",
      "Instructions for updating:\n",
      "Use eager execution and: \n",
      "`tf.data.TFRecordDataset(path)`\n"
     ]
    }
   ],
   "source": [
    "tf_event_file = log_dir + '/activations/' + os.listdir(log_dir + '/activations')[0]\n",
    "\n",
    "value_list = defaultdict(list)\n",
    "for e in tf.compat.v1.train.summary_iterator(tf_event_file):\n",
    "    for v in e.summary.value:\n",
    "        #print(v.tag)\n",
    "        #if TAG_NAME in v.tag:\n",
    "        value = tf.make_ndarray(v.tensor)\n",
    "        value_list[v.tag].append(value)\n",
    "\n",
    "value_list = {k: np.array(v) for k, v in value_list.items()}"
   ]
  },
  {
   "cell_type": "code",
   "execution_count": 15,
   "id": "5dec39ef-e402-434c-9cb5-0a59f2159015",
   "metadata": {},
   "outputs": [],
   "source": [
    "arr = [x for x in list(value_list.keys()) if 'histogram' not in x]"
   ]
  },
  {
   "cell_type": "code",
   "execution_count": 16,
   "id": "96a32971-d218-4d5c-9431-bf2d6059ed71",
   "metadata": {},
   "outputs": [],
   "source": [
    "n = len(value_list['1__conv1/input/mean'])\n",
    "xaxis = (np.arange(n) + 1) * 100\n",
    "\n",
    "weight_init_name = str(type(weight_init)).split(\"'\")[1].split('.')[-1]\n",
    "actFun_name = str(actFun.activation).split()[1]\n",
    "optimizer_name = str(type(optimizer)).split(\"'\")[1].split('.')[-1]"
   ]
  },
  {
   "cell_type": "code",
   "execution_count": 17,
   "id": "6a0ca8a5-aa41-4d4e-817d-02fc2250b8c7",
   "metadata": {},
   "outputs": [
    {
     "data": {
      "image/png": "[encoded data removed]",
      "text/plain": [
       "<Figure size 1080x576 with 24 Axes>"
      ]
     },
     "metadata": {
      "needs_background": "light"
     },
     "output_type": "display_data"
    }
   ],
   "source": [
    "fig, axs = plt.subplots(4, 6, figsize=(15,8))\n",
    "\n",
    "idx = 0\n",
    "\n",
    "for layer in np.unique([x.split('/')[0] for x in arr]):\n",
    "    for part in ['input', 'kernel', 'layer_bias', 'output']:\n",
    "        if 'conv' not in layer and 'dense' not in layer and (part == 'kernel' or part == 'layer_bias'):\n",
    "            continue\n",
    "            \n",
    "        idx1 = idx // 6\n",
    "        idx2 = idx % 6\n",
    "        \n",
    "        name = layer + '/' + part + '/'\n",
    "\n",
    "        means = value_list[name + 'mean']\n",
    "        std = value_list[name + 'stddev']\n",
    "        mins = value_list[name + 'min']\n",
    "        maxes = value_list[name + 'max']\n",
    "        \n",
    "        axs[idx1, idx2].set_title(name[:-1])\n",
    "        \n",
    "        axs[idx1, idx2].errorbar(xaxis, means, std, fmt='ok', lw=3)\n",
    "        axs[idx1, idx2].errorbar(xaxis, means, [means - mins, maxes - means], fmt='.k', ecolor='gray', lw=1)\n",
    "        axs[idx1, idx2].set_ylim(min(mins), max(maxes))\n",
    "        \n",
    "        idx += 1\n",
    "        \n",
    "plt.suptitle(f'Neural Network Term Statistics: {weight_init_name} initializer, {actFun_name} activation, {optimizer_name} optimizer',\n",
    "             size='x-large')\n",
    "#plt.text(0, 0, 'common xlabel', ha='center', va='center')\n",
    "plt.setp(axs[-1, :], xlabel='Number of batches')\n",
    "plt.setp(axs[:, 0], ylabel='Value')\n",
    "plt.tight_layout()"
   ]
  }
 ],
 "metadata": {
  "kernelspec": {
   "display_name": "Python 3",
   "language": "python",
   "name": "python3"
  },
  "language_info": {
   "codemirror_mode": {
    "name": "ipython",
    "version": 3
   },
   "file_extension": ".py",
   "mimetype": "text/x-python",
   "name": "python",
   "nbconvert_exporter": "python",
   "pygments_lexer": "ipython3",
   "version": "3.8.8"
  }
 },
 "nbformat": 4,
 "nbformat_minor": 5
}
