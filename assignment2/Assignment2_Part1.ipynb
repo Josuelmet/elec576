{
  "cells": [
    {
      "cell_type": "code",
      "source": [
        "!unzip CIFAR10.zip"
      ],
      "metadata": {
        "id": "Nxzg3XnzHPH7"
      },
      "id": "Nxzg3XnzHPH7",
      "execution_count": null,
      "outputs": []
    },
    {
      "cell_type": "markdown",
      "id": "b3b542d9-1134-4883-b117-0fd5f2c62bc3",
      "metadata": {
        "tags": [],
        "id": "b3b542d9-1134-4883-b117-0fd5f2c62bc3"
      },
      "source": [
        "# Imports"
      ]
    },
    {
      "cell_type": "code",
      "execution_count": 285,
      "id": "9600ff1e-3449-4419-9ea9-d16dfac911cf",
      "metadata": {
        "id": "9600ff1e-3449-4419-9ea9-d16dfac911cf"
      },
      "outputs": [],
      "source": [
        "from scipy import misc\n",
        "import numpy as np\n",
        "import random\n",
        "import matplotlib.pyplot as plt\n",
        "from tqdm import tqdm\n",
        "\n",
        "import tensorflow as tf\n",
        "from tensorflow import keras\n",
        "from tensorflow.keras.callbacks import Callback, LearningRateScheduler, TensorBoard\n",
        "from tensorflow.keras.initializers import *\n",
        "from tensorflow.keras.layers import *\n",
        "from tensorflow.keras.optimizers import *\n",
        "from tensorflow.keras.optimizers.schedules import *\n",
        "from tensorflow.keras.regularizers import *"
      ]
    },
    {
      "cell_type": "markdown",
      "id": "84b6ab1f-6244-4a5c-ab32-a0a11537b384",
      "metadata": {
        "id": "84b6ab1f-6244-4a5c-ab32-a0a11537b384"
      },
      "source": [
        "# Load Data"
      ]
    },
    {
      "cell_type": "code",
      "execution_count": 3,
      "id": "91640ce3-2ff0-4238-8949-846090db69d0",
      "metadata": {
        "colab": {
          "base_uri": "https://localhost:8080/"
        },
        "id": "91640ce3-2ff0-4238-8949-846090db69d0",
        "outputId": "1dfc545c-a3b4-4d16-e7bb-0b0f5a43cd90"
      },
      "outputs": [
        {
          "output_type": "stream",
          "name": "stderr",
          "text": [
            "100%|██████████| 10/10 [00:01<00:00,  5.62it/s]\n"
          ]
        }
      ],
      "source": [
        "ntrain = 1000 # per class\n",
        "ntest = 100 # per class\n",
        "nclass =  10 # number of classes\n",
        "imsize = 28\n",
        "nchannels = 1\n",
        "\n",
        "Train = np.zeros((ntrain*nclass,imsize,imsize,nchannels))\n",
        "Test = np.zeros((ntest*nclass,imsize,imsize,nchannels))\n",
        "LTrain = np.zeros((ntrain*nclass,nclass))\n",
        "LTest = np.zeros((ntest*nclass,nclass))\n",
        "\n",
        "itrain = -1\n",
        "itest = -1\n",
        "for iclass in tqdm(range(0, nclass)):\n",
        "    for isample in range(0, ntrain):\n",
        "        path = 'CIFAR10/Train/%d/Image%05d.png' % (iclass,isample)\n",
        "        im = plt.imread(path); # 28 by 28\n",
        "        im = im.astype(float)#/255\n",
        "        itrain += 1\n",
        "        Train[itrain,:,:,0] = im\n",
        "        LTrain[itrain,iclass] = 1 # 1-hot label\n",
        "    for isample in range(0, ntest):\n",
        "        path = 'CIFAR10/Test/%d/Image%05d.png' % (iclass,isample)\n",
        "        im = plt.imread(path); # 28 by 28\n",
        "        im = im.astype(float)#/255\n",
        "        itest += 1\n",
        "        Test[itest,:,:,0] = im\n",
        "        LTest[itest,iclass] = 1 # 1-hot label\n",
        "        \n",
        "        \n",
        "        \n",
        "tf.random.set_seed(0)\n",
        "indices = tf.random.shuffle(range(len(Train)), seed=0)\n",
        "Train = Train[indices]\n",
        "LTrain = LTrain[indices]"
      ]
    },
    {
      "cell_type": "markdown",
      "id": "d3f6bdb7-1269-4098-b16a-2008dafabdb8",
      "metadata": {
        "id": "d3f6bdb7-1269-4098-b16a-2008dafabdb8"
      },
      "source": [
        "# Model"
      ]
    },
    {
      "cell_type": "code",
      "execution_count": 227,
      "id": "4b978cd9-6ca2-4182-8724-b3c4506b2d8b",
      "metadata": {
        "id": "4b978cd9-6ca2-4182-8724-b3c4506b2d8b"
      },
      "outputs": [],
      "source": [
        "np.random.seed(0)\n",
        "tf.random.set_seed(0)\n",
        "\n",
        "## Hyperparameters\n",
        "\n",
        "#initializer = tf.initializers.GlorotUniform() # Glorot = Xavier\n",
        "#actFun = lambda x : tf.nn.leaky_relu(x, alpha=0.2)\n",
        "weight_init = GlorotNormal()\n",
        "#weight_init = TruncatedNormal(stddev=0.1, seed=0)\n",
        "bias_init = Constant(value=0.1)\n",
        "actFun = Activation(tf.nn.relu)\n",
        "\n",
        "lr = 1e-3 #1e-4\n",
        "#boundaries = np.array([16, 20]) \n",
        "#values = lr * np.array([1, 0.1, 0.01])\n",
        "#learning_rate_fn = PiecewiseConstantDecay(list(boundaries), list(values))\n",
        "\n",
        "#optimizer = Adam(learning_rate=learning_rate_fn) \n",
        "#optimizer = SGD(learning_rate=learning_rate_fn)\n",
        "#optimizer = Adagrad()\n",
        "optimizer = Nadam(learning_rate=lr*1/6) #1/4\n",
        "dropout = 0.8\n",
        "epochs = 25 #5 # 5.5k iterations of 50-image batches from a 55k image dataset = 5 epochs through the whole dataset\n",
        "batchsize = 50 #20"
      ]
    },
    {
      "cell_type": "code",
      "execution_count": 228,
      "id": "6f5cf2f8-4d5a-47e8-a871-c3bd6b0f044c",
      "metadata": {
        "tags": [],
        "id": "6f5cf2f8-4d5a-47e8-a871-c3bd6b0f044c"
      },
      "outputs": [],
      "source": [
        "model_input = Input(shape=(28,28, 1), name='0__original_img')\n",
        "\n",
        "x = Conv2D(filters=32, kernel_size=(5,5), padding='same', activation=actFun, kernel_regularizer=L2(0.01),\n",
        "           kernel_initializer=weight_init, bias_initializer=bias_init, name='1__conv1')(model_input) # use_bias=True by default\n",
        "x = BatchNormalization()(x)\n",
        "x = MaxPooling2D(padding='same', name='2__pool1')(x) # default strides = default pool size = (2,2)\n",
        "\n",
        "\n",
        "x = Conv2D(filters=64, kernel_size=(5,5), padding='same', activation=actFun, kernel_regularizer=L2(0.01),\n",
        "           kernel_initializer=weight_init, bias_initializer=bias_init, name='3__conv2')(x)\n",
        "x = BatchNormalization()(x)\n",
        "x = MaxPooling2D(padding='same', name='4__pool2')(x)\n",
        "\n",
        "\n",
        "x = Reshape([-1, 7*7*64], name='5__reshape')(x)\n",
        "x = Dense(1024, activation=actFun, kernel_regularizer=L2(0.005), #kernel_regularizer=L1L2(0.001, 0.005),\n",
        "          kernel_initializer=weight_init, bias_initializer=bias_init, name='6__dense1')(x)\n",
        "x = Dropout(rate=dropout, seed=0, name='7__dropout')(x)\n",
        "\n",
        "\n",
        "x = Dense(10, activation='softmax',\n",
        "          kernel_initializer=weight_init, bias_initializer=bias_init, name='8__dense2')(x)\n",
        "\n",
        "model_output = x\n",
        "\n",
        "model = keras.Model(model_input, model_output, name='model')\n",
        "#model.summary()"
      ]
    },
    {
      "cell_type": "code",
      "execution_count": 229,
      "id": "feaf266f-bf95-4615-9a20-adb42b299a08",
      "metadata": {
        "id": "feaf266f-bf95-4615-9a20-adb42b299a08"
      },
      "outputs": [],
      "source": [
        "np.random.seed(0)\n",
        "tf.random.set_seed(0)\n",
        "\n",
        "model.compile(\n",
        "    loss=keras.losses.CategoricalCrossentropy(),\n",
        "    optimizer=optimizer,\n",
        "    metrics=['accuracy']\n",
        ")"
      ]
    },
    {
      "cell_type": "code",
      "execution_count": 230,
      "id": "af4ddf1d-d6ad-47ea-ad39-7a3c8a9b7ca2",
      "metadata": {
        "colab": {
          "base_uri": "https://localhost:8080/"
        },
        "id": "af4ddf1d-d6ad-47ea-ad39-7a3c8a9b7ca2",
        "outputId": "8635cb81-69f9-4e8d-fef5-fd4f36b59687"
      },
      "outputs": [
        {
          "output_type": "stream",
          "name": "stdout",
          "text": [
            "Epoch 1/25\n",
            "180/180 [==============================] - 3s 10ms/step - loss: 10.4944 - accuracy: 0.2093 - val_loss: 9.9381 - val_accuracy: 0.1830\n",
            "Epoch 2/25\n",
            "180/180 [==============================] - 2s 9ms/step - loss: 8.9990 - accuracy: 0.2940 - val_loss: 8.8501 - val_accuracy: 0.2870\n",
            "Epoch 3/25\n",
            "180/180 [==============================] - 2s 9ms/step - loss: 7.9961 - accuracy: 0.3244 - val_loss: 7.4413 - val_accuracy: 0.3960\n",
            "Epoch 4/25\n",
            "180/180 [==============================] - 2s 9ms/step - loss: 7.0818 - accuracy: 0.3573 - val_loss: 6.4681 - val_accuracy: 0.4700\n",
            "Epoch 5/25\n",
            "180/180 [==============================] - 2s 9ms/step - loss: 6.2617 - accuracy: 0.3904 - val_loss: 5.7871 - val_accuracy: 0.4660\n",
            "Epoch 6/25\n",
            "180/180 [==============================] - 2s 9ms/step - loss: 5.5630 - accuracy: 0.4073 - val_loss: 5.1083 - val_accuracy: 0.5040\n",
            "Epoch 7/25\n",
            "180/180 [==============================] - 2s 9ms/step - loss: 4.9545 - accuracy: 0.4352 - val_loss: 4.5680 - val_accuracy: 0.5150\n",
            "Epoch 8/25\n",
            "180/180 [==============================] - 2s 9ms/step - loss: 4.4561 - accuracy: 0.4499 - val_loss: 4.1293 - val_accuracy: 0.5320\n",
            "Epoch 9/25\n",
            "180/180 [==============================] - 2s 9ms/step - loss: 4.0176 - accuracy: 0.4837 - val_loss: 3.7741 - val_accuracy: 0.5380\n",
            "Epoch 10/25\n",
            "180/180 [==============================] - 2s 9ms/step - loss: 3.6417 - accuracy: 0.4976 - val_loss: 3.4872 - val_accuracy: 0.5350\n",
            "Epoch 11/25\n",
            "180/180 [==============================] - 2s 9ms/step - loss: 3.3387 - accuracy: 0.5288 - val_loss: 3.1730 - val_accuracy: 0.5800\n",
            "Epoch 12/25\n",
            "180/180 [==============================] - 2s 9ms/step - loss: 3.0800 - accuracy: 0.5491 - val_loss: 3.0892 - val_accuracy: 0.5250\n",
            "Epoch 13/25\n",
            "180/180 [==============================] - 2s 9ms/step - loss: 2.8618 - accuracy: 0.5629 - val_loss: 2.8168 - val_accuracy: 0.5890\n",
            "Epoch 14/25\n",
            "180/180 [==============================] - 2s 9ms/step - loss: 2.6606 - accuracy: 0.6002 - val_loss: 2.8307 - val_accuracy: 0.5370\n",
            "Epoch 15/25\n",
            "180/180 [==============================] - 2s 9ms/step - loss: 2.4940 - accuracy: 0.6093 - val_loss: 2.5708 - val_accuracy: 0.5870\n",
            "Epoch 16/25\n",
            "180/180 [==============================] - 2s 9ms/step - loss: 2.3290 - accuracy: 0.6441 - val_loss: 2.4851 - val_accuracy: 0.5920\n",
            "Epoch 17/25\n",
            "180/180 [==============================] - 2s 9ms/step - loss: 2.2038 - accuracy: 0.6664 - val_loss: 2.5813 - val_accuracy: 0.5500\n",
            "Epoch 18/25\n",
            "180/180 [==============================] - 2s 9ms/step - loss: 2.0664 - accuracy: 0.6894 - val_loss: 2.4026 - val_accuracy: 0.5840\n",
            "Epoch 19/25\n",
            "180/180 [==============================] - 2s 9ms/step - loss: 1.9598 - accuracy: 0.7164 - val_loss: 2.3122 - val_accuracy: 0.6140\n",
            "Epoch 20/25\n",
            "180/180 [==============================] - 2s 9ms/step - loss: 1.8640 - accuracy: 0.7339 - val_loss: 2.2379 - val_accuracy: 0.6230\n",
            "Epoch 21/25\n",
            "180/180 [==============================] - 2s 9ms/step - loss: 1.7943 - accuracy: 0.7531 - val_loss: 2.2125 - val_accuracy: 0.6220\n",
            "Epoch 22/25\n",
            "180/180 [==============================] - 2s 9ms/step - loss: 1.7118 - accuracy: 0.7734 - val_loss: 2.3440 - val_accuracy: 0.5830\n",
            "Epoch 23/25\n",
            "180/180 [==============================] - 2s 9ms/step - loss: 1.6282 - accuracy: 0.7927 - val_loss: 2.2843 - val_accuracy: 0.5820\n",
            "Epoch 24/25\n",
            "180/180 [==============================] - 2s 9ms/step - loss: 1.5705 - accuracy: 0.8066 - val_loss: 2.1904 - val_accuracy: 0.5990\n",
            "Epoch 25/25\n",
            "180/180 [==============================] - 2s 9ms/step - loss: 1.4856 - accuracy: 0.8297 - val_loss: 2.1358 - val_accuracy: 0.6290\n"
          ]
        }
      ],
      "source": [
        "np.random.seed(0)\n",
        "tf.random.set_seed(0)\n",
        "\n",
        "history = model.fit(Train, tf.reshape(LTrain, (-1, 1, 10)), batch_size=batchsize, epochs=epochs, validation_split=0.1, shuffle=False)\n",
        "\n",
        "# TODO: figure out how to get more than 50% validation accuracy around epoch 4/5"
      ]
    },
    {
      "cell_type": "code",
      "execution_count": 253,
      "id": "7e4a5bff-6588-4227-a053-48e7048f6065",
      "metadata": {
        "colab": {
          "base_uri": "https://localhost:8080/"
        },
        "id": "7e4a5bff-6588-4227-a053-48e7048f6065",
        "outputId": "3e76997c-07ab-4aaf-f482-9d0a77cd4a86"
      },
      "outputs": [
        {
          "output_type": "stream",
          "name": "stdout",
          "text": [
            "Test accuracy: 0.611\n"
          ]
        }
      ],
      "source": [
        "test_accuracy = (model(Test)[:,0].numpy().argmax(1) == LTest.argmax(1)).sum() / len(Test)\n",
        "print(f'Test accuracy: {test_accuracy}')"
      ]
    },
    {
      "cell_type": "markdown",
      "source": [
        "# Statistics and Plotting"
      ],
      "metadata": {
        "id": "bVKIOZMxcBKU"
      },
      "id": "bVKIOZMxcBKU"
    },
    {
      "cell_type": "code",
      "source": [
        "plt.figure()\n",
        "plt.plot(history.history['accuracy'], label='accuracy')\n",
        "plt.plot(history.history['val_accuracy'], label='val_accuracy')\n",
        "plt.plot([test_accuracy] * len(history.history['accuracy']), '.', label='test_accuracy')\n",
        "plt.title('Accuracy')\n",
        "plt.xlabel('Epoch')\n",
        "plt.legend()\n",
        "\n",
        "plt.figure()\n",
        "plt.plot(history.history['loss'], label='loss')\n",
        "plt.plot(history.history['val_loss'], label='val_loss')\n",
        "plt.title('Loss')\n",
        "plt.xlabel('Epoch')\n",
        "plt.legend()"
      ],
      "metadata": {
        "colab": {
          "base_uri": "https://localhost:8080/",
          "height": 590
        },
        "id": "mAbgJ28_cNhB",
        "outputId": "f6b896d1-321e-40e1-8d82-18fc9070391b"
      },
      "id": "mAbgJ28_cNhB",
      "execution_count": 261,
      "outputs": [
        {
          "output_type": "execute_result",
          "data": {
            "text/plain": [
              "<matplotlib.legend.Legend at 0x7f5bfd3b5dd0>"
            ]
          },
          "metadata": {},
          "execution_count": 261
        },
        {
          "output_type": "display_data",
          "data": {
            "text/plain": [
              "<Figure size 432x288 with 1 Axes>"
            ],
            "image/png": "[encoded data removed]"
          },
          "metadata": {
            "needs_background": "light"
          }
        },
        {
          "output_type": "display_data",
          "data": {
            "text/plain": [
              "<Figure size 432x288 with 1 Axes>"
            ],
            "image/png": "[encoded data removed]"
          },
          "metadata": {
            "needs_background": "light"
          }
        }
      ]
    },
    {
      "cell_type": "code",
      "source": [
        "# Plot the first convolutional layer's weights\n",
        "\n",
        "fig, axs = plt.subplots(8, 4, figsize=(10,10))\n",
        "\n",
        "for i in range(8):\n",
        "  for j in range(4):\n",
        "    filter = model.layers[1].weights[0][:,:,0, i*4 + j].numpy()\n",
        "    fmin = filter.min()\n",
        "    fmax= filter.max()\n",
        "    img = (filter - fmin) / (fmax - fmin)\n",
        "\n",
        "    axs[i, j].set_xticks([])\n",
        "    axs[i, j].set_yticks([])\n",
        "    axs[i, j].imshow(img, cmap='gray')\n",
        "\n",
        "plt.subplots_adjust(wspace=0, hspace=0.1)"
      ],
      "metadata": {
        "colab": {
          "base_uri": "https://localhost:8080/",
          "height": 578
        },
        "id": "T9XhGtuOeIKe",
        "outputId": "ec623ca9-802d-431f-f1ac-72b0e1f6a8e7"
      },
      "id": "T9XhGtuOeIKe",
      "execution_count": 292,
      "outputs": [
        {
          "output_type": "display_data",
          "data": {
            "text/plain": [
              "<Figure size 720x720 with 32 Axes>"
            ],
            "image/png": "[encoded data removed]"
          },
          "metadata": {}
        }
      ]
    },
    {
      "cell_type": "code",
      "source": [
        "# Plot the activation statistics of the convolutional layers on test images\n",
        "\n",
        "intermediate1 = keras.Model(model.input, model.get_layer(model.layers[1].name).output)\n",
        "\n",
        "output1 = intermediate1(Test).numpy()\n",
        "\n",
        "plt.figure()\n",
        "plt.hist(output1.flatten(), bins=50)\n",
        "plt.xlabel('Output magnitude')\n",
        "plt.ylabel('Count')\n",
        "plt.title('Convolutional Layer Activations 1\\n(μ = black, σ boundaries = red)')\n",
        "plt.axvline(output1.mean(), color='k', linestyle='dashed', linewidth=3)\n",
        "plt.axvline(output1.mean() - output1.var()**0.5, color='r', linestyle='dashed', linewidth=2)\n",
        "plt.axvline(output1.mean() + output1.var()**0.5, color='r', linestyle='dashed', linewidth=2)"
      ],
      "metadata": {
        "colab": {
          "base_uri": "https://localhost:8080/",
          "height": 327
        },
        "id": "Og5Jb-W9ipjI",
        "outputId": "44ca8159-09b6-4ebc-ad7a-4b0dee048159"
      },
      "id": "Og5Jb-W9ipjI",
      "execution_count": 333,
      "outputs": [
        {
          "output_type": "execute_result",
          "data": {
            "text/plain": [
              "<matplotlib.lines.Line2D at 0x7f5bdc363fd0>"
            ]
          },
          "metadata": {},
          "execution_count": 333
        },
        {
          "output_type": "display_data",
          "data": {
            "text/plain": [
              "<Figure size 432x288 with 1 Axes>"
            ],
            "image/png": "[encoded data removed]"
          },
          "metadata": {
            "needs_background": "light"
          }
        }
      ]
    },
    {
      "cell_type": "code",
      "source": [
        "# Plot the activation statistics of the convolutional layers on test images\n",
        "\n",
        "intermediate2 = keras.Model(model.input, model.get_layer(model.layers[4].name).output)\n",
        "\n",
        "output2 = intermediate2(Test).numpy()\n",
        "\n",
        "plt.figure()\n",
        "plt.hist(output2.flatten(), bins=50)\n",
        "plt.xlabel('Output magnitude')\n",
        "plt.ylabel('Count')\n",
        "plt.title('Convolutional Layer Activations 2\\n(μ = black, σ boundaries = red)')\n",
        "plt.axvline(output2.mean(), color='k', linestyle='dashed', linewidth=3)\n",
        "plt.axvline(output2.mean() - output2.var()**0.5, color='r', linestyle='dashed', linewidth=2)\n",
        "plt.axvline(output2.mean() + output2.var()**0.5, color='r', linestyle='dashed', linewidth=2)"
      ],
      "metadata": {
        "colab": {
          "base_uri": "https://localhost:8080/",
          "height": 327
        },
        "id": "DbTmHCxFnz1n",
        "outputId": "77d563a1-e4c0-40e3-f66b-e0722b2a85e7"
      },
      "id": "DbTmHCxFnz1n",
      "execution_count": 334,
      "outputs": [
        {
          "output_type": "execute_result",
          "data": {
            "text/plain": [
              "<matplotlib.lines.Line2D at 0x7f5bdd1b76d0>"
            ]
          },
          "metadata": {},
          "execution_count": 334
        },
        {
          "output_type": "display_data",
          "data": {
            "text/plain": [
              "<Figure size 432x288 with 1 Axes>"
            ],
            "image/png": "[encoded data removed]"
          },
          "metadata": {
            "needs_background": "light"
          }
        }
      ]
    },
    {
      "cell_type": "markdown",
      "source": [
        "# Saving and Loading Model"
      ],
      "metadata": {
        "id": "KoMZHwVVcG_g"
      },
      "id": "KoMZHwVVcG_g"
    },
    {
      "cell_type": "code",
      "source": [
        "model.save('sixtyone_percent_validation')"
      ],
      "metadata": {
        "colab": {
          "base_uri": "https://localhost:8080/"
        },
        "id": "DfnmxNvJad2b",
        "outputId": "ca9a7d54-144e-4f0d-cfc0-c363442eb0aa"
      },
      "id": "DfnmxNvJad2b",
      "execution_count": 235,
      "outputs": [
        {
          "output_type": "stream",
          "name": "stderr",
          "text": [
            "WARNING:absl:Function `_wrapped_model` contains input name(s) 0__original_img with unsupported characters which will be renamed to original_img in the SavedModel.\n",
            "WARNING:absl:Found untraced functions such as activation_51_layer_call_fn, activation_51_layer_call_and_return_conditional_losses while saving (showing 2 of 2). These functions will not be directly callable after loading.\n"
          ]
        },
        {
          "output_type": "stream",
          "name": "stdout",
          "text": [
            "INFO:tensorflow:Assets written to: sixtyone_percent_validation/assets\n"
          ]
        },
        {
          "output_type": "stream",
          "name": "stderr",
          "text": [
            "INFO:tensorflow:Assets written to: sixtyone_percent_validation/assets\n"
          ]
        }
      ]
    },
    {
      "cell_type": "code",
      "source": [
        "temp = tf.keras.models.load_model('sixtyone_percent_validation')"
      ],
      "metadata": {
        "id": "PpvEhu2way-G"
      },
      "id": "PpvEhu2way-G",
      "execution_count": 240,
      "outputs": []
    },
    {
      "cell_type": "code",
      "source": [
        "!zip -r sixtyone_percent_validation.zip sixtyone_percent_validation"
      ],
      "metadata": {
        "colab": {
          "base_uri": "https://localhost:8080/"
        },
        "id": "A_z0N6-NbTwt",
        "outputId": "053df8dc-2f42-4251-bac4-2b26a8192fc5"
      },
      "id": "A_z0N6-NbTwt",
      "execution_count": 244,
      "outputs": [
        {
          "output_type": "stream",
          "name": "stdout",
          "text": [
            "  adding: sixtyone_percent_validation/ (stored 0%)\n",
            "  adding: sixtyone_percent_validation/keras_metadata.pb (deflated 91%)\n",
            "  adding: sixtyone_percent_validation/saved_model.pb (deflated 89%)\n",
            "  adding: sixtyone_percent_validation/assets/ (stored 0%)\n",
            "  adding: sixtyone_percent_validation/variables/ (stored 0%)\n",
            "  adding: sixtyone_percent_validation/variables/variables.data-00000-of-00001 (deflated 8%)\n",
            "  adding: sixtyone_percent_validation/variables/variables.index (deflated 67%)\n"
          ]
        }
      ]
    }
  ],
  "metadata": {
    "kernelspec": {
      "display_name": "Python 3",
      "language": "python",
      "name": "python3"
    },
    "language_info": {
      "codemirror_mode": {
        "name": "ipython",
        "version": 3
      },
      "file_extension": ".py",
      "mimetype": "text/x-python",
      "name": "python",
      "nbconvert_exporter": "python",
      "pygments_lexer": "ipython3",
      "version": "3.8.8"
    },
    "colab": {
      "name": "Assignment2_Part1.ipynb",
      "provenance": [],
      "collapsed_sections": []
    },
    "accelerator": "GPU",
    "gpuClass": "standard"
  },
  "nbformat": 4,
  "nbformat_minor": 5
}